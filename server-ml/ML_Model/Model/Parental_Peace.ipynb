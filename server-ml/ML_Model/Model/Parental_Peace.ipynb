{
  "cells": [
    {
      "cell_type": "code",
      "execution_count": 4,
      "metadata": {
        "colab": {
          "base_uri": "https://localhost:8080/"
        },
        "id": "gfupyq_R-E5F",
        "outputId": "dea1b7b2-65c1-489a-8c38-c921f7a69f66"
      },
      "outputs": [
        {
          "ename": "ModuleNotFoundError",
          "evalue": "No module named 'librosa'",
          "output_type": "error",
          "traceback": [
            "\u001b[1;31m---------------------------------------------------------------------------\u001b[0m",
            "\u001b[1;31mModuleNotFoundError\u001b[0m                       Traceback (most recent call last)",
            "\u001b[1;32mc:\\Users\\kuzup\\OneDrive\\Dokumen\\GitHub\\Parental_Peace\\server-ml\\ML_Model\\Model\\Parental_Peace.ipynb Cell 1\u001b[0m line \u001b[0;36m2\n\u001b[0;32m      <a href='vscode-notebook-cell:/c%3A/Users/kuzup/OneDrive/Dokumen/GitHub/Parental_Peace/server-ml/ML_Model/Model/Parental_Peace.ipynb#W0sZmlsZQ%3D%3D?line=0'>1</a>\u001b[0m \u001b[39mimport\u001b[39;00m \u001b[39mos\u001b[39;00m\n\u001b[1;32m----> <a href='vscode-notebook-cell:/c%3A/Users/kuzup/OneDrive/Dokumen/GitHub/Parental_Peace/server-ml/ML_Model/Model/Parental_Peace.ipynb#W0sZmlsZQ%3D%3D?line=1'>2</a>\u001b[0m \u001b[39mimport\u001b[39;00m \u001b[39mlibrosa\u001b[39;00m\n\u001b[0;32m      <a href='vscode-notebook-cell:/c%3A/Users/kuzup/OneDrive/Dokumen/GitHub/Parental_Peace/server-ml/ML_Model/Model/Parental_Peace.ipynb#W0sZmlsZQ%3D%3D?line=2'>3</a>\u001b[0m \u001b[39mimport\u001b[39;00m \u001b[39mnumpy\u001b[39;00m \u001b[39mas\u001b[39;00m \u001b[39mnp\u001b[39;00m\n\u001b[0;32m      <a href='vscode-notebook-cell:/c%3A/Users/kuzup/OneDrive/Dokumen/GitHub/Parental_Peace/server-ml/ML_Model/Model/Parental_Peace.ipynb#W0sZmlsZQ%3D%3D?line=3'>4</a>\u001b[0m \u001b[39mimport\u001b[39;00m \u001b[39mtensorflow\u001b[39;00m \u001b[39mas\u001b[39;00m \u001b[39mtf\u001b[39;00m\n",
            "\u001b[1;31mModuleNotFoundError\u001b[0m: No module named 'librosa'"
          ]
        }
      ],
      "source": [
        "import os\n",
        "import librosa\n",
        "import numpy as np\n",
        "import tensorflow as tf\n",
        "from tensorflow import keras\n",
        "from tensorflow.keras import layers\n",
        "from sklearn.preprocessing import LabelEncoder\n",
        "from sklearn.model_selection import train_test_split\n",
        "\n",
        "from google.colab import drive\n",
        "drive.mount('/content/drive')\n",
        "dataset_dir = '/content/drive/MyDrive/Capstone Project ML/donateacry_corpus_cleaned_and_updated_data/'\n",
        "\n",
        "# Inisialisasi list untuk menyimpan fitur audio dan label\n",
        "audio_features = []\n",
        "labels = []\n",
        "\n",
        "# Menentukan panjang maksimum fitur (jumlah frame MFCC)\n",
        "max_length = 10000  # Sesuaikan panjang sesuai kebutuhan Anda\n",
        "\n",
        "# Melakukan iterasi pada setiap folder (kategori)\n",
        "for category in os.listdir(dataset_dir):\n",
        "    category_dir = os.path.join(dataset_dir, category)\n",
        "    for filename in os.listdir(category_dir):\n",
        "        if filename.endswith(\".wav\"):\n",
        "            filepath = os.path.join(category_dir, filename)\n",
        "            # Membaca file audio\n",
        "            audio, sr = librosa.load(filepath, sr=None)  # sr=None agar sampling rate asli digunakan\n",
        "            # Ekstraksi fitur audio (misalnya, MFCC)\n",
        "            mfccs = librosa.feature.mfcc(y=audio, sr=sr, n_mfcc=13)\n",
        "            # Zero-padding untuk menyamakan panjang fitur\n",
        "            if mfccs.shape[1] < max_length:\n",
        "                pad_width = max_length - mfccs.shape[1]\n",
        "                mfccs = np.pad(mfccs, pad_width=((0, 0), (0, pad_width)), mode='constant')\n",
        "            else:\n",
        "                mfccs = mfccs[:, :max_length]\n",
        "            # Menyimpan fitur dan label\n",
        "            audio_features.append(mfccs)\n",
        "            labels.append(category)\n",
        "\n",
        "# Konversi label ke angka\n",
        "label_encoder = LabelEncoder()\n",
        "labels = label_encoder.fit_transform(labels)\n",
        "\n",
        "# Split data menjadi data pelatihan dan pengujian\n",
        "X_train, X_test, y_train, y_test = train_test_split(audio_features, labels, test_size=0.2, random_state=42)\n",
        "\n",
        "# Konversi data ke bentuk array NumPy\n",
        "X_train = np.array(X_train)\n",
        "X_test = np.array(X_test)\n",
        "\n",
        "# Membangun model RNN dengan LSTM\n",
        "model = keras.Sequential([\n",
        "    layers.LSTM(128, return_sequences=True, input_shape=(X_train.shape[1], X_train.shape[2])),\n",
        "    layers.BatchNormalization(),\n",
        "    layers.LSTM(64, return_sequences=True),\n",
        "    layers.BatchNormalization(),\n",
        "    layers.Flatten(),\n",
        "    layers.Dropout(0.5),\n",
        "    layers.Dense(256, activation='relu'),\n",
        "    layers.Dropout(0.5),\n",
        "    layers.Dense(512, activation='relu'),\n",
        "    layers.Dense(len(label_encoder.classes_), activation='softmax')\n",
        "])\n",
        "\n",
        "class myCallback(tf.keras.callbacks.Callback):\n",
        "    def on_epoch_end(self, epoch, logs={}):\n",
        "        if (logs.get('val_accuracy') >= 0.85):\n",
        "            print(\"\\nReached 85% accuracy so cancelling training!\")\n",
        "            self.model.stop_training = True\n",
        "\n",
        "model.summary()\n",
        "\n",
        "model.compile(optimizer='adam', loss='sparse_categorical_crossentropy', metrics=['accuracy'])\n",
        "\n",
        "callbacks = myCallback()\n",
        "# Latih model\n",
        "model.fit(\n",
        "    X_train,  # Input data for training\n",
        "    y_train,  # Target data for training\n",
        "    epochs=50,\n",
        "    batch_size=64,\n",
        "    validation_data=(X_test, y_test),\n",
        "    callbacks = [callbacks]# Validation data\n",
        ")\n",
        "\n",
        "# Evaluasi model\n",
        "test_loss, test_acc = model.evaluate(X_test, y_test)\n",
        "print(f\"Test accuracy: {test_acc}\")"
      ]
    },
    {
      "cell_type": "code",
      "execution_count": 4,
      "metadata": {
        "colab": {
          "base_uri": "https://localhost:8080/"
        },
        "id": "dtwN53rm-Jqb",
        "outputId": "6ef5258c-0797-4bd8-f04e-69e459b0ab25"
      },
      "outputs": [
        {
          "name": "stderr",
          "output_type": "stream",
          "text": [
            "/usr/local/lib/python3.10/dist-packages/keras/src/engine/training.py:3079: UserWarning: You are saving your model as an HDF5 file via `model.save()`. This file format is considered legacy. We recommend using instead the native Keras format, e.g. `model.save('my_model.keras')`.\n",
            "  saving_api.save_model(\n"
          ]
        }
      ],
      "source": [
        "model.save('/content/drive/MyDrive/Capstone Project ML/babycrymodel.h5')"
      ]
    },
    {
      "cell_type": "code",
      "execution_count": 3,
      "metadata": {
        "colab": {
          "base_uri": "https://localhost:8080/"
        },
        "id": "UEp6hf5N-PSx",
        "outputId": "64032f8a-db61-435c-8868-8eb5c1e20482"
      },
      "outputs": [
        {
          "name": "stdout",
          "output_type": "stream",
          "text": [
            "10/10 [==============================] - 0s 11ms/step\n",
            "True Label: belly_pain, Predicted Label: belly_pain\n",
            "True Label: discomfort, Predicted Label: tired\n",
            "True Label: hungry, Predicted Label: hungry\n",
            "True Label: discomfort, Predicted Label: discomfort\n",
            "True Label: discomfort, Predicted Label: discomfort\n",
            "True Label: tired, Predicted Label: tired\n",
            "True Label: burping, Predicted Label: burping\n",
            "True Label: burping, Predicted Label: burping\n",
            "True Label: discomfort, Predicted Label: discomfort\n",
            "True Label: discomfort, Predicted Label: discomfort\n"
          ]
        }
      ],
      "source": [
        "# Make predictions on the test set\n",
        "predictions = model.predict(X_test)\n",
        "\n",
        "# Convert predictions to class labels\n",
        "predicted_labels = np.argmax(predictions, axis=1)\n",
        "\n",
        "# Convert numeric labels back to original labels using the label encoder\n",
        "predicted_category_labels = label_encoder.inverse_transform(predicted_labels)\n",
        "\n",
        "# Display some predictions\n",
        "for i in range(10):  # Display predictions for the first 10 samples\n",
        "    print(f\"True Label: {label_encoder.classes_[y_test[i]]}, Predicted Label: {predicted_category_labels[i]}\")"
      ]
    }
  ],
  "metadata": {
    "accelerator": "GPU",
    "colab": {
      "gpuType": "T4",
      "provenance": []
    },
    "kernelspec": {
      "display_name": "Python 3",
      "name": "python3"
    },
    "language_info": {
      "codemirror_mode": {
        "name": "ipython",
        "version": 3
      },
      "file_extension": ".py",
      "mimetype": "text/x-python",
      "name": "python",
      "nbconvert_exporter": "python",
      "pygments_lexer": "ipython3",
      "version": "3.10.11"
    }
  },
  "nbformat": 4,
  "nbformat_minor": 0
}
